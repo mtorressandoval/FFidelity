{
 "cells": [
  {
   "cell_type": "code",
   "execution_count": 119,
   "metadata": {},
   "outputs": [],
   "source": [
    "from qiskit import QuantumCircuit\n",
    "from qiskit_aer.primitives import Estimator\n",
    "import matplotlib.pyplot as plt\n",
    "import numpy as np\n",
    "from qiskit.quantum_info import Statevector, random_clifford\n",
    "\n",
    "from tomography import Random_Measurements\n",
    "from tomography import NearSparseTomography "
   ]
  },
  {
   "cell_type": "code",
   "execution_count": 120,
   "metadata": {},
   "outputs": [],
   "source": [
    "NQs = [ 2, 3, 4, 5, 6 ]\n",
    "shots = 1000\n",
    "simulator_ideal=Estimator(backend_options={'shots':shots,\n",
    "                                            'method':\"stabilizer\",},\n",
    "                            transpile_options={'optimization_level':0},\n",
    "                            abelian_grouping=True, ) "
   ]
  },
  {
   "cell_type": "code",
   "execution_count": 126,
   "metadata": {},
   "outputs": [],
   "source": [
    "MC = 10\n",
    "Fids = np.zeros( [len(NQs),MC] )\n",
    "num_meas = [15, 40, 100, 200, 350]\n",
    "\n",
    "for i, NQ in enumerate(NQs):\n",
    "    \n",
    "    d = 2**NQ\n",
    "\n",
    "    for j in range(MC):\n",
    "        RM = Random_Measurements(NQ)\n",
    "\n",
    "        psi_circ = random_clifford( NQ ).to_circuit()\n",
    "        psi_th = np.array( Statevector(psi_circ) )\n",
    "\n",
    "        RM.RandomMeasurements( num_meas[i], psi_circ, simulator_ideal )\n",
    "\n",
    "        phi_in = np.random.rand(d) + 1j * np.random.rand(d)\n",
    "        phi_in = phi_in / np.linalg.norm(phi_in)\n",
    "\n",
    "        psi_out = NearSparseTomography( phi_in, RM )\n",
    "\n",
    "        fid = np.abs( np.vdot( psi_th, psi_out ) )**2 \n",
    "        \n",
    "        Fids[i,j] = fid"
   ]
  },
  {
   "cell_type": "code",
   "execution_count": 127,
   "metadata": {},
   "outputs": [
    {
     "data": {
      "text/plain": [
       "array([[1.  , 1.  , 1.  , 1.  , 1.  , 1.  , 1.  , 1.  , 1.  , 1.  ],\n",
       "       [1.  , 1.  , 1.  , 1.  , 1.  , 1.  , 1.  , 1.  , 1.  , 1.  ],\n",
       "       [0.  , 1.  , 1.  , 1.  , 1.  , 1.  , 1.  , 1.  , 1.  , 1.  ],\n",
       "       [0.99, 1.  , 0.  , 1.  , 0.  , 0.  , 1.  , 0.99, 1.  , 1.  ],\n",
       "       [0.99, 0.04, 0.  , 0.25, 0.99, 0.98, 0.  , 0.  , 0.  , 0.  ]])"
      ]
     },
     "execution_count": 127,
     "metadata": {},
     "output_type": "execute_result"
    }
   ],
   "source": [
    "Fids.round(2)"
   ]
  },
  {
   "cell_type": "code",
   "execution_count": 129,
   "metadata": {},
   "outputs": [
    {
     "data": {
      "text/plain": [
       "array([0.99944591, 0.99877981, 0.89788466, 0.69687072, 0.32502589])"
      ]
     },
     "execution_count": 129,
     "metadata": {},
     "output_type": "execute_result"
    }
   ],
   "source": [
    "np.mean( Fids, axis=1 )"
   ]
  },
  {
   "cell_type": "code",
   "execution_count": null,
   "metadata": {},
   "outputs": [],
   "source": []
  },
  {
   "cell_type": "code",
   "execution_count": null,
   "metadata": {},
   "outputs": [],
   "source": []
  }
 ],
 "metadata": {
  "kernelspec": {
   "display_name": "qiskit",
   "language": "python",
   "name": "python3"
  },
  "language_info": {
   "codemirror_mode": {
    "name": "ipython",
    "version": 3
   },
   "file_extension": ".py",
   "mimetype": "text/x-python",
   "name": "python",
   "nbconvert_exporter": "python",
   "pygments_lexer": "ipython3",
   "version": "3.10.9"
  }
 },
 "nbformat": 4,
 "nbformat_minor": 2
}
