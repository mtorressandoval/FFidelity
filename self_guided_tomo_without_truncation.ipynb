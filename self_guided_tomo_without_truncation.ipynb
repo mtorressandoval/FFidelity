{
 "cells": [
  {
   "cell_type": "code",
   "execution_count": 1,
   "metadata": {},
   "outputs": [],
   "source": [
    "from qiskit import QuantumCircuit\n",
    "from qiskit_aer.primitives import Estimator\n",
    "import matplotlib.pyplot as plt \n",
    "import numpy as np \n",
    "from qiskit.quantum_info import Statevector, random_clifford \n",
    "import os"
   ]
  },
  {
   "cell_type": "code",
   "execution_count": 3,
   "metadata": {},
   "outputs": [],
   "source": [
    "from tomography import SelfGuidedTomography, Mean_Direct_Fidelity"
   ]
  },
  {
   "cell_type": "code",
   "execution_count": 4,
   "metadata": {},
   "outputs": [],
   "source": [
    "NQ = 2\n",
    "MDF = Mean_Direct_Fidelity(NQ)\n",
    "state = np.random.randn( 2**NQ )\n",
    "state = state / np.linalg.norm( state )"
   ]
  },
  {
   "cell_type": "code",
   "execution_count": 5,
   "metadata": {},
   "outputs": [
    {
     "data": {
      "text/plain": [
       "array([0.+0.j        , 0.+0.70710678j, 0.-0.70710678j, 0.+0.j        ])"
      ]
     },
     "execution_count": 5,
     "metadata": {},
     "output_type": "execute_result"
    }
   ],
   "source": [
    "Omega = random_clifford( NQ ).to_circuit()\n",
    "state = np.array( Statevector(Omega) )\n",
    "state"
   ]
  },
  {
   "cell_type": "code",
   "execution_count": 6,
   "metadata": {},
   "outputs": [
    {
     "data": {
      "text/plain": [
       "array([ 0.5+0.j,  0. +0.j,  0. +0.j,  0. +0.j,  0. +0.j, -0.5+0.j,\n",
       "        0. +0.j,  0. +0.j,  0. +0.j,  0. +0.j, -0.5+0.j,  0. +0.j,\n",
       "        0. +0.j,  0. +0.j,  0. +0.j, -0.5+0.j])"
      ]
     },
     "execution_count": 6,
     "metadata": {},
     "output_type": "execute_result"
    }
   ],
   "source": [
    "MDF.Chi( state, None ).round(2)"
   ]
  },
  {
   "cell_type": "code",
   "execution_count": 7,
   "metadata": {},
   "outputs": [
    {
     "data": {
      "text/plain": [
       "array([ 0.5+0.j,  0. +0.j,  0. +0.j,  0. +0.j,  0. +0.j, -0.5+0.j,\n",
       "        0. +0.j,  0. +0.j,  0. +0.j,  0. +0.j, -0.5+0.j,  0. +0.j,\n",
       "        0. +0.j,  0. +0.j,  0. +0.j, -0.5+0.j])"
      ]
     },
     "execution_count": 7,
     "metadata": {},
     "output_type": "execute_result"
    }
   ],
   "source": [
    "alpha = 0 #1 / 2**NQ\n",
    "MDF.Chi( state, truncation=alpha ).round(2)"
   ]
  },
  {
   "cell_type": "code",
   "execution_count": 7,
   "metadata": {},
   "outputs": [
    {
     "data": {
      "text/plain": [
       "array([[ 0.25+0.j  ,  0.  +0.25j,  0.25+0.j  ,  0.  -0.25j],\n",
       "       [ 0.  -0.25j,  0.25+0.j  ,  0.  -0.25j, -0.25-0.j  ],\n",
       "       [ 0.25+0.j  ,  0.  +0.25j,  0.25+0.j  ,  0.  -0.25j],\n",
       "       [ 0.  +0.25j, -0.25+0.j  ,  0.  +0.25j,  0.25+0.j  ]])"
      ]
     },
     "execution_count": 7,
     "metadata": {},
     "output_type": "execute_result"
    }
   ],
   "source": [
    "np.outer( state, state.conj() ).round(2)"
   ]
  },
  {
   "cell_type": "markdown",
   "metadata": {},
   "source": [
    "### Initial Parameters"
   ]
  },
  {
   "cell_type": "code",
   "execution_count": 8,
   "metadata": {},
   "outputs": [],
   "source": [
    "NQs = [2,3,4,5,6]\n",
    "L = len(NQs)\n",
    "N = 2\n",
    "Niter = 100\n",
    "shots = 1000\n",
    "simulator_ideal=Estimator(backend_options={'shots':shots,\n",
    "                                            'method':\"stabilizer\",},\n",
    "                            transpile_options={'optimization_level':0},\n",
    "                            ) "
   ]
  },
  {
   "cell_type": "code",
   "execution_count": 13,
   "metadata": {},
   "outputs": [],
   "source": [
    "from joblib import Parallel, delayed\n",
    "\n",
    "def simulate( NQ, simulator ):\n",
    "\n",
    "    d = 2**NQ\n",
    "\n",
    "    Omega = random_clifford( NQ ).to_circuit()\n",
    "    OmegaM=np.outer(np.array(Statevector(Omega)),\n",
    "                    (np.array(Statevector(Omega))).conj()) \n",
    "\n",
    "    psi0 = np.random.rand(d) + 1j * np.random.rand(d)\n",
    "    psi0 = psi0 / np.linalg.norm(psi0)\n",
    "    guess = psi0\n",
    "\n",
    "    MDF = Mean_Direct_Fidelity(NQ)\n",
    "\n",
    "    stop_measuring = lambda x : ( np.linalg.norm( list( x.values() ) ) > 0.98 )\n",
    "\n",
    "    I_ex = lambda x : 1 - MDF.MeanFidelity(1, \n",
    "                                            2*NQ**2, \n",
    "                                            x,\n",
    "                                            Omega,\n",
    "                                            simulator,\n",
    "                                            truncation = None,\n",
    "                                            stop_measuring = stop_measuring,  )\n",
    "    \n",
    "    I_th = lambda x: 1 - np.vdot( x, OmegaM@x )/(np.linalg.norm( x ))**2\n",
    "\n",
    "    Fidelities = []\n",
    "    Measures = []\n",
    "    Last=[]\n",
    "    norms = []\n",
    "    def callback( i, x ):\n",
    "        Last.append(x)\n",
    "        Fidelities.append( I_th(x) )\n",
    "        Measures.append(MDF.num_exp_meas)\n",
    "        norms.append( np.linalg.norm( list( MDF.Measures.values() ) ) )\n",
    "        return None\n",
    "\n",
    "    SelfGuidedTomography( I_ex, \n",
    "                            guess, \n",
    "                            num_iter=1000, \n",
    "                            callback = callback,\n",
    "                            )\n",
    "    \n",
    "    Results=[np.array(Fidelities), \n",
    "                np.array(Measures), \n",
    "                np.array(Last),\n",
    "                np.array( norms )\n",
    "                ] \n",
    "\n",
    "    return Results  #j index the average over the Hilbert space \n"
   ]
  },
  {
   "cell_type": "code",
   "execution_count": 14,
   "metadata": {},
   "outputs": [
    {
     "name": "stderr",
     "output_type": "stream",
     "text": [
      "[Parallel(n_jobs=-1)]: Using backend LokyBackend with 16 concurrent workers.\n",
      "[Parallel(n_jobs=-1)]: Done   1 tasks      | elapsed:    0.4s\n",
      "[Parallel(n_jobs=-1)]: Done   2 out of  10 | elapsed:    0.4s remaining:    2.0s\n",
      "[Parallel(n_jobs=-1)]: Done   3 out of  10 | elapsed:    0.4s remaining:    1.2s\n",
      "[Parallel(n_jobs=-1)]: Done   4 out of  10 | elapsed:    0.4s remaining:    0.7s\n",
      "[Parallel(n_jobs=-1)]: Done   5 out of  10 | elapsed:    0.4s remaining:    0.4s\n",
      "[Parallel(n_jobs=-1)]: Done   6 out of  10 | elapsed:    0.5s remaining:    0.3s\n",
      "[Parallel(n_jobs=-1)]: Done   7 out of  10 | elapsed:    0.5s remaining:    0.1s\n",
      "[Parallel(n_jobs=-1)]: Done   8 out of  10 | elapsed:    0.5s remaining:    0.0s\n",
      "[Parallel(n_jobs=-1)]: Done  10 out of  10 | elapsed:    0.5s remaining:    0.0s\n",
      "[Parallel(n_jobs=-1)]: Done  10 out of  10 | elapsed:    0.5s finished\n",
      "[Parallel(n_jobs=-1)]: Using backend LokyBackend with 16 concurrent workers.\n",
      "[Parallel(n_jobs=-1)]: Done   1 tasks      | elapsed:    0.8s\n",
      "[Parallel(n_jobs=-1)]: Done   2 out of  10 | elapsed:    0.9s remaining:    3.9s\n",
      "[Parallel(n_jobs=-1)]: Done   3 out of  10 | elapsed:    0.9s remaining:    2.3s\n",
      "[Parallel(n_jobs=-1)]: Done   4 out of  10 | elapsed:    1.0s remaining:    1.5s\n",
      "[Parallel(n_jobs=-1)]: Done   5 out of  10 | elapsed:    1.0s remaining:    1.0s\n",
      "[Parallel(n_jobs=-1)]: Done   6 out of  10 | elapsed:    1.0s remaining:    0.6s\n",
      "[Parallel(n_jobs=-1)]: Done   7 out of  10 | elapsed:    1.0s remaining:    0.4s\n",
      "[Parallel(n_jobs=-1)]: Done   8 out of  10 | elapsed:    1.0s remaining:    0.2s\n",
      "[Parallel(n_jobs=-1)]: Done  10 out of  10 | elapsed:    1.0s remaining:    0.0s\n",
      "[Parallel(n_jobs=-1)]: Done  10 out of  10 | elapsed:    1.0s finished\n",
      "[Parallel(n_jobs=-1)]: Using backend LokyBackend with 16 concurrent workers.\n",
      "[Parallel(n_jobs=-1)]: Done   1 tasks      | elapsed:    3.9s\n",
      "[Parallel(n_jobs=-1)]: Done   2 out of  10 | elapsed:    4.0s remaining:   16.3s\n",
      "[Parallel(n_jobs=-1)]: Done   3 out of  10 | elapsed:    4.2s remaining:   10.0s\n",
      "[Parallel(n_jobs=-1)]: Done   4 out of  10 | elapsed:    4.2s remaining:    6.4s\n",
      "[Parallel(n_jobs=-1)]: Done   5 out of  10 | elapsed:    4.3s remaining:    4.3s\n",
      "[Parallel(n_jobs=-1)]: Done   6 out of  10 | elapsed:    4.3s remaining:    2.8s\n",
      "[Parallel(n_jobs=-1)]: Done   7 out of  10 | elapsed:    4.3s remaining:    1.8s\n",
      "[Parallel(n_jobs=-1)]: Done   8 out of  10 | elapsed:    4.3s remaining:    1.0s\n",
      "[Parallel(n_jobs=-1)]: Done  10 out of  10 | elapsed:    4.4s remaining:    0.0s\n",
      "[Parallel(n_jobs=-1)]: Done  10 out of  10 | elapsed:    4.4s finished\n",
      "[Parallel(n_jobs=-1)]: Using backend LokyBackend with 16 concurrent workers.\n",
      "[Parallel(n_jobs=-1)]: Done   1 tasks      | elapsed:   14.2s\n",
      "[Parallel(n_jobs=-1)]: Done   2 out of  10 | elapsed:   15.2s remaining:  1.0min\n",
      "[Parallel(n_jobs=-1)]: Done   3 out of  10 | elapsed:   16.3s remaining:   38.1s\n",
      "[Parallel(n_jobs=-1)]: Done   4 out of  10 | elapsed:   16.4s remaining:   24.7s\n",
      "[Parallel(n_jobs=-1)]: Done   5 out of  10 | elapsed:   16.4s remaining:   16.4s\n",
      "[Parallel(n_jobs=-1)]: Done   6 out of  10 | elapsed:   16.7s remaining:   11.1s\n",
      "[Parallel(n_jobs=-1)]: Done   7 out of  10 | elapsed:   16.8s remaining:    7.2s\n",
      "[Parallel(n_jobs=-1)]: Done   8 out of  10 | elapsed:   16.9s remaining:    4.2s\n",
      "[Parallel(n_jobs=-1)]: Done  10 out of  10 | elapsed:   17.2s remaining:    0.0s\n",
      "[Parallel(n_jobs=-1)]: Done  10 out of  10 | elapsed:   17.2s finished\n",
      "[Parallel(n_jobs=-1)]: Using backend LokyBackend with 16 concurrent workers.\n",
      "[Parallel(n_jobs=-1)]: Done   1 tasks      | elapsed:  1.1min\n",
      "[Parallel(n_jobs=-1)]: Done   2 out of  10 | elapsed:  1.1min remaining:  4.6min\n",
      "[Parallel(n_jobs=-1)]: Done   3 out of  10 | elapsed:  1.2min remaining:  2.7min\n",
      "[Parallel(n_jobs=-1)]: Done   4 out of  10 | elapsed:  1.2min remaining:  1.8min\n",
      "[Parallel(n_jobs=-1)]: Done   5 out of  10 | elapsed:  1.2min remaining:  1.2min\n",
      "[Parallel(n_jobs=-1)]: Done   6 out of  10 | elapsed:  1.2min remaining:   48.1s\n",
      "[Parallel(n_jobs=-1)]: Done   7 out of  10 | elapsed:  1.2min remaining:   31.1s\n",
      "[Parallel(n_jobs=-1)]: Done   8 out of  10 | elapsed:  1.2min remaining:   18.2s\n",
      "[Parallel(n_jobs=-1)]: Done  10 out of  10 | elapsed:  1.2min remaining:    0.0s\n",
      "[Parallel(n_jobs=-1)]: Done  10 out of  10 | elapsed:  1.2min finished\n"
     ]
    }
   ],
   "source": [
    "from joblib import Parallel, delayed\n",
    "\n",
    "iterator = np.repeat(NQs, N).flatten()\n",
    "\n",
    "R = Parallel(n_jobs=-1, verbose=11)(delayed(simulate)(int(NQ)) for NQ in iterator)"
   ]
  },
  {
   "cell_type": "code",
   "execution_count": 15,
   "metadata": {},
   "outputs": [],
   "source": [
    "Fids, Meas, _ = [[[R[i + j * N][r] for i in range(N)] for j in range(len(NQs))]\n",
    "                   for r in range(3)]\n",
    "\n",
    "Fids = np.real(Fids)\n",
    "Meas = np.array(Meas)"
   ]
  },
  {
   "cell_type": "code",
   "execution_count": null,
   "metadata": {},
   "outputs": [],
   "source": [
    "# Save data. Ax order Fids and Meas are: [NQ, Nrun, Niter]\n",
    "\n",
    "filename = \"sgqt_without_truncation.npz\"\n",
    "\n",
    "data = {\n",
    "    \"N\": [N],\n",
    "    \"shots\": [shots],\n",
    "    \"Niter\": [Niter],\n",
    "    \"NQs\": NQs,\n",
    "    \"Fids\": Fids,\n",
    "    \"Meas\": Meas,\n",
    "    \"info\": [\"N, shots, and Niter are single integers in one array each.\",\n",
    "             \"NQs is the array of number of qubits.\",\n",
    "             \"Fids and Meas have shapes (len(NQs), N, Niter)\"],\n",
    "}\n",
    "\n",
    "# Make directory \"data\" if not present\n",
    "os.makedirs(\"data\", exist_ok=True)\n",
    "\n",
    "# Save\n",
    "filepath = os.path.join(\"data\", filename)\n",
    "np.savez(filepath, **data)"
   ]
  }
 ],
 "metadata": {
  "kernelspec": {
   "display_name": "mati",
   "language": "python",
   "name": "python3"
  },
  "language_info": {
   "codemirror_mode": {
    "name": "ipython",
    "version": 3
   },
   "file_extension": ".py",
   "mimetype": "text/x-python",
   "name": "python",
   "nbconvert_exporter": "python",
   "pygments_lexer": "ipython3",
   "version": "3.12.2"
  }
 },
 "nbformat": 4,
 "nbformat_minor": 2
}
