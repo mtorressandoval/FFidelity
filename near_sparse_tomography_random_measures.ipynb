{
 "cells": [
  {
   "cell_type": "code",
   "execution_count": 2,
   "metadata": {},
   "outputs": [],
   "source": [
    "from qiskit import QuantumCircuit\n",
    "from qiskit_aer.primitives import Estimator\n",
    "import matplotlib.pyplot as plt\n",
    "import numpy as np\n",
    "from qiskit.quantum_info import Statevector, random_clifford\n",
    "\n",
    "from tomography import Mean_Direct_Fidelity\n",
    "from tomography import NearSparseTomography "
   ]
  },
  {
   "cell_type": "code",
   "execution_count": 3,
   "metadata": {},
   "outputs": [],
   "source": [
    "NQ = 4\n",
    "d = 2**NQ\n",
    "shots = 10_000\n",
    "simulator_ideal=Estimator(backend_options={'shots':shots,},\n",
    "                            transpile_options={'optimization_level':0},\n",
    "                            ) "
   ]
  },
  {
   "cell_type": "code",
   "execution_count": 7,
   "metadata": {},
   "outputs": [],
   "source": [
    "Fids = []\n",
    "for _ in range(10):\n",
    "    MDF = Mean_Direct_Fidelity(NQ)\n",
    "\n",
    "    psi_circ = random_clifford( NQ ).to_circuit()\n",
    "    psi_th = np.array( Statevector(psi_circ) )\n",
    "\n",
    "    MDF.RandomMeasurements( 4**3, psi_circ, simulator_ideal )\n",
    "\n",
    "    phi_in = np.random.rand(d) + 1j * np.random.rand(d)\n",
    "    phi_in = phi_in / np.linalg.norm(phi_in)\n",
    "\n",
    "    psi_out = NearSparseTomography( phi_in, MDF )\n",
    "\n",
    "    fid = np.abs( np.vdot( psi_th, psi_out ) )**2 \n",
    "    Fids.append( fid )"
   ]
  },
  {
   "cell_type": "code",
   "execution_count": 12,
   "metadata": {},
   "outputs": [
    {
     "data": {
      "text/plain": [
       "[0.9998733626717625,\n",
       " 2.647111958524032e-05,\n",
       " 0.9993543921748929,\n",
       " 0.00013863573960433767,\n",
       " 5.689720477314006e-05,\n",
       " 0.9996469860775231,\n",
       " 3.075218795725031e-05,\n",
       " 0.9997842448835185,\n",
       " 9.386025779226116e-07,\n",
       " 0.9997775198208645]"
      ]
     },
     "execution_count": 12,
     "metadata": {},
     "output_type": "execute_result"
    }
   ],
   "source": [
    "Fids"
   ]
  },
  {
   "cell_type": "code",
   "execution_count": 10,
   "metadata": {},
   "outputs": [
    {
     "data": {
      "text/plain": [
       "0.4998690200483059"
      ]
     },
     "execution_count": 10,
     "metadata": {},
     "output_type": "execute_result"
    }
   ],
   "source": [
    "np.mean( Fids )"
   ]
  },
  {
   "cell_type": "code",
   "execution_count": 11,
   "metadata": {},
   "outputs": [
    {
     "data": {
      "text/plain": [
       "0.4998690200483059"
      ]
     },
     "execution_count": 11,
     "metadata": {},
     "output_type": "execute_result"
    }
   ],
   "source": [
    "np.mean( Fids )"
   ]
  },
  {
   "cell_type": "code",
   "execution_count": null,
   "metadata": {},
   "outputs": [],
   "source": []
  }
 ],
 "metadata": {
  "kernelspec": {
   "display_name": "qiskit",
   "language": "python",
   "name": "python3"
  },
  "language_info": {
   "codemirror_mode": {
    "name": "ipython",
    "version": 3
   },
   "file_extension": ".py",
   "mimetype": "text/x-python",
   "name": "python",
   "nbconvert_exporter": "python",
   "pygments_lexer": "ipython3",
   "version": "3.10.9"
  }
 },
 "nbformat": 4,
 "nbformat_minor": 2
}
