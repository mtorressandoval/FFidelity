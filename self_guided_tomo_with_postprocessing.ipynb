{
 "cells": [
  {
   "cell_type": "code",
   "execution_count": 1,
   "metadata": {},
   "outputs": [],
   "source": [
    "import os\n",
    "import numpy as np\n",
    "from qiskit_aer.primitives import Estimator\n",
    "from qiskit.quantum_info import Statevector, random_clifford"
   ]
  },
  {
   "cell_type": "code",
   "execution_count": 2,
   "metadata": {},
   "outputs": [],
   "source": [
    "from tomography import SelfGuidedTomography, Mean_Direct_Fidelity, NearSparseTomography"
   ]
  },
  {
   "cell_type": "markdown",
   "metadata": {},
   "source": [
    "### Initial Parameters"
   ]
  },
  {
   "cell_type": "code",
   "execution_count": 3,
   "metadata": {},
   "outputs": [],
   "source": [
    "NQs = [2, 3, 4, 5] #, 6]\n",
    "L = len(NQs)\n",
    "N = 10\n",
    "Niter = 10\n",
    "shots = 1000\n",
    "\n",
    "simulator_ideal = Estimator(\n",
    "    backend_options={\n",
    "        \"shots\": shots,\n",
    "        \"method\": \"stabilizer\",\n",
    "    },\n",
    "    transpile_options={\"optimization_level\": 0},\n",
    ")"
   ]
  },
  {
   "cell_type": "code",
   "execution_count": 4,
   "metadata": {},
   "outputs": [],
   "source": [
    "def simulate(NQ, simulator=simulator_ideal):\n",
    "    d = 2 ** NQ\n",
    "\n",
    "    Omega = random_clifford(NQ).to_circuit()\n",
    "    OmegaM = np.outer(\n",
    "        np.array(Statevector(Omega)), (np.array(Statevector(Omega))).conj()\n",
    "    )\n",
    "\n",
    "    psi0 = np.random.rand(d) + 1j * np.random.rand(d)\n",
    "    psi0 = psi0 / np.linalg.norm(psi0)\n",
    "    guess = psi0\n",
    "\n",
    "    MDF = Mean_Direct_Fidelity(NQ)\n",
    "\n",
    "    stop_measuring = lambda x: (np.linalg.norm(list(x.values())) > 0.98)\n",
    "\n",
    "    I_ex = lambda x: 1 - MDF.MeanFidelity(\n",
    "        1,\n",
    "        NQ**2,\n",
    "        x,\n",
    "        Omega,\n",
    "        simulator,\n",
    "        truncation=None,\n",
    "        stop_measuring=stop_measuring,\n",
    "    )\n",
    "\n",
    "    I_th = lambda x: 1 - np.vdot(x, OmegaM @ x) / (np.linalg.norm(x)) ** 2\n",
    "\n",
    "    Fidelities = []\n",
    "    Measures = []\n",
    "    Last = []\n",
    "\n",
    "    def callback(i, x):\n",
    "        Last.append(x)\n",
    "        Fidelities.append(np.real(I_th(x)))\n",
    "        Measures.append(len(MDF.Measures))\n",
    "        return None\n",
    "\n",
    "    postprocessing = lambda x: NearSparseTomography(x, MDF=MDF)\n",
    "\n",
    "    SelfGuidedTomography(\n",
    "        I_ex,\n",
    "        guess,\n",
    "        num_iter=Niter,\n",
    "        callback=callback,\n",
    "        postprocessing=postprocessing,\n",
    "    )\n",
    "\n",
    "    Results = [\n",
    "        np.array(Fidelities),\n",
    "        np.array(Measures),\n",
    "        np.array(Last),\n",
    "    ]\n",
    "\n",
    "    return Results  # j index the average over the Hilbert space"
   ]
  },
  {
   "cell_type": "code",
   "execution_count": 5,
   "metadata": {},
   "outputs": [
    {
     "name": "stderr",
     "output_type": "stream",
     "text": [
      "[Parallel(n_jobs=-1)]: Using backend LokyBackend with 8 concurrent workers.\n",
      "[Parallel(n_jobs=-1)]: Done   1 tasks      | elapsed:    3.2s\n",
      "[Parallel(n_jobs=-1)]: Done   2 tasks      | elapsed:    3.3s\n",
      "[Parallel(n_jobs=-1)]: Done   3 tasks      | elapsed:    3.6s\n",
      "[Parallel(n_jobs=-1)]: Done   4 tasks      | elapsed:    3.6s\n",
      "[Parallel(n_jobs=-1)]: Done   5 tasks      | elapsed:    3.8s\n",
      "[Parallel(n_jobs=-1)]: Done   6 tasks      | elapsed:    4.0s\n",
      "[Parallel(n_jobs=-1)]: Done   7 tasks      | elapsed:    4.1s\n",
      "[Parallel(n_jobs=-1)]: Done   8 tasks      | elapsed:    4.2s\n",
      "[Parallel(n_jobs=-1)]: Done   9 tasks      | elapsed:    5.4s\n",
      "[Parallel(n_jobs=-1)]: Done  10 tasks      | elapsed:    5.6s\n",
      "[Parallel(n_jobs=-1)]: Done  11 tasks      | elapsed:   11.3s\n",
      "[Parallel(n_jobs=-1)]: Done  12 tasks      | elapsed:   13.4s\n",
      "[Parallel(n_jobs=-1)]: Done  13 tasks      | elapsed:   13.5s\n",
      "[Parallel(n_jobs=-1)]: Done  14 tasks      | elapsed:   13.9s\n",
      "[Parallel(n_jobs=-1)]: Done  15 tasks      | elapsed:   14.2s\n",
      "[Parallel(n_jobs=-1)]: Done  16 tasks      | elapsed:   14.7s\n",
      "[Parallel(n_jobs=-1)]: Done  17 tasks      | elapsed:   15.6s\n",
      "[Parallel(n_jobs=-1)]: Done  18 tasks      | elapsed:   16.1s\n",
      "[Parallel(n_jobs=-1)]: Done  19 tasks      | elapsed:   19.1s\n",
      "[Parallel(n_jobs=-1)]: Done  20 tasks      | elapsed:   23.4s\n",
      "[Parallel(n_jobs=-1)]: Done  21 tasks      | elapsed:   34.4s\n",
      "[Parallel(n_jobs=-1)]: Done  22 tasks      | elapsed:   38.9s\n",
      "[Parallel(n_jobs=-1)]: Done  23 tasks      | elapsed:   40.8s\n",
      "[Parallel(n_jobs=-1)]: Done  24 tasks      | elapsed:   41.3s\n",
      "[Parallel(n_jobs=-1)]: Done  25 tasks      | elapsed:   42.1s\n",
      "[Parallel(n_jobs=-1)]: Done  29 out of  40 | elapsed:  1.1min remaining:   24.0s\n",
      "[Parallel(n_jobs=-1)]: Done  33 out of  40 | elapsed:  2.1min remaining:   26.7s\n",
      "[Parallel(n_jobs=-1)]: Done  37 out of  40 | elapsed:  2.5min remaining:   12.2s\n",
      "[Parallel(n_jobs=-1)]: Done  40 out of  40 | elapsed:  2.8min finished\n"
     ]
    }
   ],
   "source": [
    "from joblib import Parallel, delayed\n",
    "\n",
    "iterator = np.repeat(NQs, N).flatten()\n",
    "\n",
    "R = Parallel(n_jobs=-1, verbose=11)(delayed(simulate)(int(NQ)) for NQ in iterator)"
   ]
  },
  {
   "cell_type": "code",
   "execution_count": 6,
   "metadata": {},
   "outputs": [],
   "source": [
    "# Recover shape [NQ, N]\n",
    "#R = [[R[i + j * N] for i in range(N)] for j in range(len(NQs))]"
   ]
  },
  {
   "cell_type": "code",
   "execution_count": 7,
   "metadata": {},
   "outputs": [],
   "source": [
    "Fids, Meas, _ = [[[R[i + j * N][r] for i in range(N)] for j in range(len(NQs))]\n",
    "                   for r in range(3)]\n",
    "\n",
    "Fids = np.real(Fids)\n",
    "Meas = np.array(Meas)"
   ]
  },
  {
   "cell_type": "code",
   "execution_count": 8,
   "metadata": {},
   "outputs": [],
   "source": [
    "# Save data. Ax order Fids and Meas are: [NQ, Nrun, Niter]\n",
    "\n",
    "filename = \"sgqt_with_postprocessing.npz\"\n",
    "\n",
    "data = {\n",
    "    \"N\": [N],\n",
    "    \"shots\": [shots],\n",
    "    \"Niter\": [Niter],\n",
    "    \"NQs\": NQs,\n",
    "    \"Fids\": Fids,\n",
    "    \"Meas\": Meas,\n",
    "    \"info\": [\"N, shots, and Niter are single integers in one array each.\",\n",
    "             \"NQs is the array of number of qubits.\",\n",
    "             \"Fids and Meas have shapes (len(NQs), N, Niter)\"],\n",
    "}\n",
    "\n",
    "# Make directory \"data\" if not present\n",
    "os.makedirs(\"data\", exist_ok=True)\n",
    "\n",
    "# Save\n",
    "filepath = os.path.join(\"data\", filename)\n",
    "np.savez(filepath, **data)"
   ]
  },
  {
   "cell_type": "code",
   "execution_count": null,
   "metadata": {},
   "outputs": [],
   "source": []
  }
 ],
 "metadata": {
  "kernelspec": {
   "display_name": "mati",
   "language": "python",
   "name": "python3"
  },
  "language_info": {
   "codemirror_mode": {
    "name": "ipython",
    "version": 3
   },
   "file_extension": ".py",
   "mimetype": "text/x-python",
   "name": "python",
   "nbconvert_exporter": "python",
   "pygments_lexer": "ipython3",
   "version": "3.12.4"
  }
 },
 "nbformat": 4,
 "nbformat_minor": 2
}
