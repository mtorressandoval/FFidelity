{
 "cells": [
  {
   "cell_type": "code",
   "execution_count": 1,
   "metadata": {},
   "outputs": [],
   "source": [
    "from qiskit import QuantumCircuit\n",
    "from qiskit_aer.primitives import Estimator\n",
    "import matplotlib.pyplot as plt\n",
    "import numpy as np\n",
    "from qiskit.quantum_info import Statevector, random_clifford\n",
    "\n",
    "from tomography import Random_Measurements\n",
    "from tomography import NearSparseTomography \n",
    "\n",
    "from time import time "
   ]
  },
  {
   "cell_type": "code",
   "execution_count": 2,
   "metadata": {},
   "outputs": [],
   "source": [
    "NQs = [ 5 ]\n",
    "shots = 1000\n",
    "simulator_ideal=Estimator(backend_options={'shots':shots,\n",
    "                                            'method':\"stabilizer\",},\n",
    "                            transpile_options={'optimization_level':0},\n",
    "                            abelian_grouping=True, ) "
   ]
  },
  {
   "cell_type": "code",
   "execution_count": 3,
   "metadata": {},
   "outputs": [
    {
     "data": {
      "text/plain": [
       "21.050097227096558"
      ]
     },
     "execution_count": 3,
     "metadata": {},
     "output_type": "execute_result"
    }
   ],
   "source": [
    "MC = 10\n",
    "Fids = np.zeros( [len(NQs),MC] )\n",
    "num_meas = [15, 40, 100, 200, 350]\n",
    "\n",
    "t1 = time() \n",
    "for i, NQ in enumerate(NQs):\n",
    "    \n",
    "    d = 2**NQ\n",
    "\n",
    "    for j in range(MC): \n",
    "        RM = Random_Measurements(NQ)\n",
    "\n",
    "        psi_circ = random_clifford( NQ ).to_circuit()\n",
    "        psi_th = np.array( Statevector(psi_circ) )\n",
    "\n",
    "        RM.RandomMeasurements( num_meas[i], psi_circ, simulator_ideal )\n",
    "\n",
    "        phi_in = np.random.rand(d) + 1j * np.random.rand(d)\n",
    "        phi_in = phi_in / np.linalg.norm(phi_in)\n",
    "\n",
    "        psi_out, results = NearSparseTomography( phi_in, RM )\n",
    "\n",
    "        fid = np.abs( np.vdot( psi_th, psi_out ) )**2 \n",
    "        \n",
    "        Fids[i,j] = fid\n",
    "t2 = time()\n",
    "t2-t1 "
   ]
  },
  {
   "cell_type": "code",
   "execution_count": 4,
   "metadata": {},
   "outputs": [
    {
     "data": {
      "text/plain": [
       "array([[0.11, 0.08, 0.21, 0.12, 0.07, 0.01, 0.01, 0.04, 0.03, 0.03]])"
      ]
     },
     "execution_count": 4,
     "metadata": {},
     "output_type": "execute_result"
    }
   ],
   "source": [
    "Fids.round(2)"
   ]
  },
  {
   "cell_type": "code",
   "execution_count": 5,
   "metadata": {},
   "outputs": [
    {
     "data": {
      "text/plain": [
       "array([0.07179777])"
      ]
     },
     "execution_count": 5,
     "metadata": {},
     "output_type": "execute_result"
    }
   ],
   "source": [
    "np.mean( Fids, axis=1 )"
   ]
  },
  {
   "cell_type": "code",
   "execution_count": 6,
   "metadata": {},
   "outputs": [],
   "source": [
    "# 2.6348488330841064\n",
    "# 3.2828805446624756\n",
    "# 5.260049104690552\n",
    "# 21.050097227096558"
   ]
  }
 ],
 "metadata": {
  "kernelspec": {
   "display_name": "qiskit",
   "language": "python",
   "name": "python3"
  },
  "language_info": {
   "codemirror_mode": {
    "name": "ipython",
    "version": 3
   },
   "file_extension": ".py",
   "mimetype": "text/x-python",
   "name": "python",
   "nbconvert_exporter": "python",
   "pygments_lexer": "ipython3",
   "version": "3.10.9"
  }
 },
 "nbformat": 4,
 "nbformat_minor": 2
}
