{
 "cells": [
  {
   "cell_type": "code",
   "execution_count": 1,
   "metadata": {},
   "outputs": [],
   "source": [
    "import os"
   ]
  },
  {
   "cell_type": "code",
   "execution_count": 2,
   "metadata": {},
   "outputs": [],
   "source": [
    "from qiskit_aer.primitives import Estimator\n",
    "from qiskit_aer import AerSimulator \n",
    "import numpy as np\n",
    "from qiskit.quantum_info import  random_clifford, state_fidelity \n",
    "from tomography import SelfGuidedTomography, Mean_Direct_Fidelity, NearSparseTomography, NearSparseTomography_v2"
   ]
  },
  {
   "cell_type": "code",
   "execution_count": 3,
   "metadata": {},
   "outputs": [],
   "source": [
    "from qiskit_aer.noise import NoiseModel, depolarizing_error \n",
    "error_1 = depolarizing_error( 1e-3, 1 )\n",
    "error_2 = depolarizing_error( 5e-3, 2 )\n",
    "noise_model = NoiseModel()\n",
    "noise_model.add_all_qubit_quantum_error(error_1, ['h', 's', 'sd', 'x'])\n",
    "noise_model.add_all_qubit_quantum_error(error_2, ['cx'])"
   ]
  },
  {
   "cell_type": "code",
   "execution_count": 4,
   "metadata": {},
   "outputs": [],
   "source": [
    "NQs = [2,3,4,5,6]\n",
    "L = len(NQs)\n",
    "N = 100 \n",
    "shots = 1000 \n",
    "num_iter = 10 \n",
    "\n",
    "simulator =Estimator(backend_options={'shots':shots,\n",
    "                                    'method':\"stabilizer\",\n",
    "                                    'noise_model':noise_model,\n",
    "                                    },\n",
    "                    transpile_options={'optimization_level':0},\n",
    "                    ) "
   ]
  },
  {
   "cell_type": "code",
   "execution_count": 5,
   "metadata": {},
   "outputs": [],
   "source": [
    "from joblib import Parallel, delayed\n",
    "\n",
    "def simulate( NQ, simulator=simulator ):\n",
    "\n",
    "    d = 2**NQ\n",
    "\n",
    "    Omega  = random_clifford( NQ ).to_circuit() \n",
    "\n",
    "    #####\n",
    "    qasm = AerSimulator(method='density_matrix',\n",
    "                        noise_model=noise_model)\n",
    "    Omega_density = Omega.copy()\n",
    "    Omega_density.save_density_matrix()\n",
    "    OmegaM_noisy = np.array( qasm.run(Omega_density).result().data()['density_matrix'] )\n",
    "    #####\n",
    "\n",
    "    # I_th = lambda x: 1 - np.vdot( x, OmegaM_noisy@x )/(np.linalg.norm( x ))**2\n",
    "\n",
    "    MDF = Mean_Direct_Fidelity(NQ)\n",
    "\n",
    "    stop_measuring = lambda x : ( np.linalg.norm( list( x.values() ) ) > 0.99 )\n",
    "\n",
    "    I_ex = lambda x : 1 - MDF.MeanFidelity(1,  \n",
    "                                        2*NQ**2,  \n",
    "                                        x,  \n",
    "                                        Omega, \n",
    "                                        simulator, \n",
    "                                        truncation= None, \n",
    "                                        stop_measuring = stop_measuring, \n",
    "                                        )\n",
    "\n",
    "    def I_th( x ):\n",
    "\n",
    "        x = x/np.linalg.norm( x )\n",
    "        Is = []\n",
    "        I_1 = 1 - np.vdot( x, OmegaM_noisy@x )/(np.linalg.norm( x ))**2\n",
    "        Is.append( I_1 )\n",
    "\n",
    "        F = 1- I_ex( x )\n",
    "        FF = np.max( [ np.min( [(d*F-1)/(d-1), 1]), 0 ] )\n",
    "        print(FF)\n",
    "        rho_white = FF * np.outer( x, x.conj() ) + (1-FF)*np.eye(d) /d\n",
    "        rho_white = 0.5*rho_white+.5*rho_white.T.conj()\n",
    "        rho_white = rho_white / np.trace( rho_white )\n",
    "        I_2 = 1 - state_fidelity( rho_white , OmegaM_noisy, validate=False ) \n",
    "        Is.append( I_2 )\n",
    "\n",
    "        for rank in [3, d//2, d ]:\n",
    "            # phi = np.sqrt(1-FF)*np.eye( d, rank, dtype=complex)/np.sqrt(rank)\n",
    "            # phi[:,0] = np.sqrt(FF)*x \n",
    "            phi = 1e-4*np.eye( d, rank, dtype=complex)/np.sqrt(rank)\n",
    "            phi[:,0] = x \n",
    "            rho = NearSparseTomography_v2( phi, MDF=MDF )\n",
    "            rho = 0.5*rho + 0.5*rho.T.conj()\n",
    "            rho = rho / np.trace( rho )\n",
    "            I_3 = 1 - state_fidelity( rho, OmegaM_noisy, validate=False ) \n",
    "            Is.append( I_3 )\n",
    "\n",
    "        return Is\n",
    "\n",
    "    Fidelities = []\n",
    "    Measures = []\n",
    "    Last=[]\n",
    "    def callback( i, x ):\n",
    "        Last.append(x)\n",
    "        Fidelities.append( I_th(x) )\n",
    "        Measures.append(len(MDF.Measures))\n",
    "        return None\n",
    "\n",
    "    # first level \n",
    "    psi0 = np.random.rand(d) + 1j * np.random.rand(d)\n",
    "    psi0 = psi0 / np.linalg.norm(psi0)\n",
    "    guess = psi0 \n",
    "\n",
    "    postprocessing = lambda x : NearSparseTomography( x, MDF=MDF )\n",
    "\n",
    "    SelfGuidedTomography( I_ex, \n",
    "                            guess, \n",
    "                            num_iter=num_iter, \n",
    "                            callback = callback,\n",
    "                            postprocessing = postprocessing,\n",
    "                            )\n",
    "\n",
    "    Results=[np.array(Fidelities), \n",
    "                np.array(Measures), \n",
    "                np.array(Last),\n",
    "                ] \n",
    "\n",
    "    return Results  #j index the average over the Hilbert space \n"
   ]
  },
  {
   "cell_type": "code",
   "execution_count": 6,
   "metadata": {},
   "outputs": [],
   "source": [
    "# simulate(2, simulator )"
   ]
  },
  {
   "cell_type": "code",
   "execution_count": 7,
   "metadata": {},
   "outputs": [
    {
     "name": "stderr",
     "output_type": "stream",
     "text": [
      "[Parallel(n_jobs=-1)]: Using backend LokyBackend with 16 concurrent workers.\n",
      "[Parallel(n_jobs=-1)]: Done   1 tasks      | elapsed:    8.6s\n",
      "[Parallel(n_jobs=-1)]: Done   2 tasks      | elapsed:    9.0s\n",
      "[Parallel(n_jobs=-1)]: Done   3 tasks      | elapsed:    9.2s\n",
      "[Parallel(n_jobs=-1)]: Done   4 tasks      | elapsed:    9.2s\n",
      "[Parallel(n_jobs=-1)]: Done   5 tasks      | elapsed:    9.3s\n",
      "[Parallel(n_jobs=-1)]: Done   6 tasks      | elapsed:    9.3s\n",
      "[Parallel(n_jobs=-1)]: Done   7 tasks      | elapsed:   10.1s\n",
      "[Parallel(n_jobs=-1)]: Done   8 tasks      | elapsed:   10.2s\n",
      "[Parallel(n_jobs=-1)]: Done   9 tasks      | elapsed:   10.4s\n",
      "[Parallel(n_jobs=-1)]: Done  10 tasks      | elapsed:   13.0s\n",
      "[Parallel(n_jobs=-1)]: Done  11 tasks      | elapsed:   23.5s\n",
      "[Parallel(n_jobs=-1)]: Done  12 tasks      | elapsed:   34.2s\n",
      "[Parallel(n_jobs=-1)]: Done  13 tasks      | elapsed:   36.1s\n",
      "[Parallel(n_jobs=-1)]: Done  14 tasks      | elapsed:   37.2s\n",
      "[Parallel(n_jobs=-1)]: Done  15 tasks      | elapsed:   37.2s\n",
      "[Parallel(n_jobs=-1)]: Done  16 tasks      | elapsed:   38.4s\n",
      "[Parallel(n_jobs=-1)]: Done  17 tasks      | elapsed:   39.6s\n",
      "[Parallel(n_jobs=-1)]: Done  18 tasks      | elapsed:   39.7s\n",
      "[Parallel(n_jobs=-1)]: Done  19 tasks      | elapsed:   40.5s\n",
      "[Parallel(n_jobs=-1)]: Done  24 out of  50 | elapsed:  2.3min remaining:  2.5min\n",
      "[Parallel(n_jobs=-1)]: Done  29 out of  50 | elapsed:  2.6min remaining:  1.9min\n",
      "[Parallel(n_jobs=-1)]: Done  34 out of  50 | elapsed:  9.6min remaining:  4.5min\n",
      "[Parallel(n_jobs=-1)]: Done  39 out of  50 | elapsed: 12.3min remaining:  3.5min\n",
      "[Parallel(n_jobs=-1)]: Done  44 out of  50 | elapsed: 65.2min remaining:  8.9min\n",
      "[Parallel(n_jobs=-1)]: Done  50 out of  50 | elapsed: 124.3min finished\n"
     ]
    }
   ],
   "source": [
    "iterator = np.repeat(NQs, N).flatten()\n",
    "\n",
    "R = Parallel(n_jobs=-1, verbose=11)(delayed(simulate)(int(NQ)) for NQ in iterator) "
   ]
  },
  {
   "cell_type": "code",
   "execution_count": 10,
   "metadata": {},
   "outputs": [],
   "source": [
    "Fids, Meas, _ = [[[R[i + j * N][r] for i in range(N)] for j in range(len(NQs))]\n",
    "                    for r in range(3)]\n",
    "\n",
    "Fids = np.real(Fids)\n",
    "Meas = np.array(Meas)"
   ]
  },
  {
   "cell_type": "code",
   "execution_count": 11,
   "metadata": {},
   "outputs": [],
   "source": [
    "# Save data. Ax order Fids and Meas are: [NQ, Nrun, Niter]\n",
    "\n",
    "filename = \"sgqt_for_mixed2.npz\"\n",
    "\n",
    "data = {\n",
    "    \"N\": [N],\n",
    "    \"shots\": [shots],\n",
    "    \"Niter\": [num_iter],\n",
    "    \"NQs\": NQs,\n",
    "    \"Fids\": Fids,\n",
    "    \"Meas\": Meas,\n",
    "    \"info\": [\"N, shots, and Niter are single integers in one array each.\",\n",
    "             \"NQs is the array of number of qubits.\",\n",
    "             \"Fids and Meas have shapes (len(NQs), N, Niter)\"],\n",
    "}\n",
    "\n",
    "# Make directory \"data\" if not present\n",
    "os.makedirs(\"data\", exist_ok=True)\n",
    "\n",
    "# Save\n",
    "filepath = os.path.join(\"data\", filename)\n",
    "np.savez(filepath, **data)"
   ]
  },
  {
   "cell_type": "code",
   "execution_count": null,
   "metadata": {},
   "outputs": [],
   "source": []
  }
 ],
 "metadata": {
  "kernelspec": {
   "display_name": "mati",
   "language": "python",
   "name": "python3"
  },
  "language_info": {
   "codemirror_mode": {
    "name": "ipython",
    "version": 3
   },
   "file_extension": ".py",
   "mimetype": "text/x-python",
   "name": "python",
   "nbconvert_exporter": "python",
   "pygments_lexer": "ipython3",
   "version": "3.12.3"
  }
 },
 "nbformat": 4,
 "nbformat_minor": 2
}
