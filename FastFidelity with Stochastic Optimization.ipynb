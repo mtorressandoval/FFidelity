{
 "cells": [
  {
   "cell_type": "code",
   "execution_count": 65,
   "metadata": {},
   "outputs": [],
   "source": [
    "from qiskit import QuantumCircuit\n",
    "from qiskit_aer.primitives import Estimator\n",
    "import numpy as np\n",
    "from itertools import product\n",
    "from qiskit.quantum_info import SparsePauliOp\n",
    "import random as rd\n",
    "import matplotlib.pyplot as plt\n",
    "import cspsa"
   ]
  },
  {
   "cell_type": "code",
   "execution_count": 66,
   "metadata": {},
   "outputs": [],
   "source": [
    "from FastMeanFidelity import Mean_Direct_Fidelity"
   ]
  },
  {
   "cell_type": "code",
   "execution_count": 67,
   "metadata": {},
   "outputs": [
    {
     "name": "stdout",
     "output_type": "stream",
     "text": [
      "The number of qubits is given by NQ=4, and the respective dimension of the Hilbert space is d=16\n",
      "The total number of Pauli strings operators is given by d^2=256\n"
     ]
    }
   ],
   "source": [
    "NQ = 4 #Number of qubits\n",
    "d=2**NQ #Dimension of the Hilbert space\n",
    "print(\"The number of qubits is given by NQ=\"+str(NQ)+\", and the respective dimension of the Hilbert space is d=\"+str(d))\n",
    "print(\"The total number of Pauli strings operators is given by d^2=\"+str(d**2))"
   ]
  },
  {
   "cell_type": "code",
   "execution_count": 68,
   "metadata": {},
   "outputs": [],
   "source": [
    "rho0 = np.zeros(2**NQ)\n",
    "rho0[0]=1\n",
    "\n",
    "rho0[1]=-1\n",
    "rho0 = rho0 / np.linalg.norm( rho0 )\n",
    "rho=np.outer(rho0,rho0.conj())"
   ]
  },
  {
   "cell_type": "code",
   "execution_count": 69,
   "metadata": {},
   "outputs": [],
   "source": [
    "modulo=Mean_Direct_Fidelity(NQ) "
   ]
  },
  {
   "cell_type": "code",
   "execution_count": 70,
   "metadata": {},
   "outputs": [],
   "source": [
    "Omega1 = QuantumCircuit(NQ)\n",
    "Omega1.h(0)\n",
    "for j in range(NQ-1):\n",
    "    Omega1.cx(j, j+1)"
   ]
  },
  {
   "cell_type": "code",
   "execution_count": 71,
   "metadata": {},
   "outputs": [],
   "source": [
    "from qiskit.quantum_info import Statevector\n",
    "OOmega=np.array(Statevector(Omega1))\n",
    "OOmegamatrix=np.outer(OOmega,OOmega.conj())"
   ]
  },
  {
   "cell_type": "code",
   "execution_count": 72,
   "metadata": {},
   "outputs": [
    {
     "data": {
      "text/plain": [
       "(0.2499999999999999+0j)"
      ]
     },
     "execution_count": 72,
     "metadata": {},
     "output_type": "execute_result"
    }
   ],
   "source": [
    "np.trace(rho@OOmegamatrix)"
   ]
  },
  {
   "cell_type": "code",
   "execution_count": 82,
   "metadata": {},
   "outputs": [],
   "source": [
    "def infedelity(x):\n",
    "    x=x/np.linalg.norm( x )\n",
    "    return (1-modulo.MeanFidelity( 3, \n",
    "                    100, \n",
    "                    x, \n",
    "                    Omega1, \n",
    "                    shots=1000 ))**2\n"
   ]
  },
  {
   "cell_type": "code",
   "execution_count": 83,
   "metadata": {},
   "outputs": [],
   "source": [
    "guess =rho0 # Random value to start iterating from\n",
    "data = []\n",
    "def normalize(x):\n",
    "    return x/(np.linalg.norm( x ))\n",
    "def callback0( i, x ):\n",
    "    f=np.vdot(x, OOmegamatrix@x)/(np.linalg.norm( x ))**2\n",
    "    data.append(f)\n",
    "    return None\n",
    "\n",
    "\n"
   ]
  },
  {
   "cell_type": "code",
   "execution_count": 90,
   "metadata": {},
   "outputs": [
    {
     "name": "stderr",
     "output_type": "stream",
     "text": [
      "100%|██████████| 400/400 [07:36<00:00,  1.14s/it]\n",
      "100%|██████████| 400/400 [07:44<00:00,  1.16s/it]\n",
      "100%|██████████| 400/400 [07:29<00:00,  1.12s/it]\n",
      "100%|██████████| 400/400 [07:14<00:00,  1.09s/it]\n",
      "100%|██████████| 400/400 [13:52<00:00,  2.08s/it]\n",
      "100%|██████████| 400/400 [08:05<00:00,  1.21s/it]\n",
      "100%|██████████| 400/400 [07:12<00:00,  1.08s/it]\n",
      "100%|██████████| 400/400 [07:13<00:00,  1.08s/it]\n",
      "100%|██████████| 400/400 [09:28<00:00,  1.42s/it]\n",
      "100%|██████████| 400/400 [08:03<00:00,  1.21s/it]\n"
     ]
    }
   ],
   "source": [
    "Repetitions=10\n",
    "Fidelities=[[] for _ in range(Repetitions)]\n",
    "optimizer = cspsa.SPSA(num_iter=400,callback=callback0,postprocessing=normalize)\n",
    "for j in range(Repetitions):\n",
    "    optimizer.run(infedelity, guess,progressbar=True)\n",
    "    Fidelities[j]=np.array(data)\n",
    "    optimizer.restart()\n",
    "    data = []\n",
    "    "
   ]
  },
  {
   "cell_type": "code",
   "execution_count": 102,
   "metadata": {},
   "outputs": [
    {
     "name": "stderr",
     "output_type": "stream",
     "text": [
      "d:\\miniconda\\envs\\mati\\Lib\\site-packages\\matplotlib\\cbook.py:1699: ComplexWarning: Casting complex values to real discards the imaginary part\n",
      "  return math.isfinite(val)\n",
      "d:\\miniconda\\envs\\mati\\Lib\\site-packages\\matplotlib\\cbook.py:1345: ComplexWarning: Casting complex values to real discards the imaginary part\n",
      "  return np.asarray(x, float)\n"
     ]
    },
    {
     "data": {
      "text/plain": [
       "[<matplotlib.lines.Line2D at 0x193473d95e0>]"
      ]
     },
     "execution_count": 102,
     "metadata": {},
     "output_type": "execute_result"
    },
    {
     "data": {
      "image/png": "[encoded data removed]",
      "text/plain": [
       "<Figure size 640x480 with 1 Axes>"
      ]
     },
     "metadata": {},
     "output_type": "display_data"
    }
   ],
   "source": [
    "plt.plot(sum(Fidelities)/len(Fidelities))"
   ]
  },
  {
   "cell_type": "code",
   "execution_count": null,
   "metadata": {},
   "outputs": [],
   "source": []
  }
 ],
 "metadata": {
  "kernelspec": {
   "display_name": "mati",
   "language": "python",
   "name": "python3"
  },
  "language_info": {
   "codemirror_mode": {
    "name": "ipython",
    "version": 3
   },
   "file_extension": ".py",
   "mimetype": "text/x-python",
   "name": "python",
   "nbconvert_exporter": "python",
   "pygments_lexer": "ipython3",
   "version": "3.12.2"
  }
 },
 "nbformat": 4,
 "nbformat_minor": 2
}
