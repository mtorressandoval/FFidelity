{
 "cells": [
  {
   "cell_type": "code",
   "execution_count": 149,
   "metadata": {},
   "outputs": [],
   "source": [
    "import numpy as np "
   ]
  },
  {
   "cell_type": "code",
   "execution_count": 150,
   "metadata": {},
   "outputs": [
    {
     "data": {
      "text/plain": [
       "array([[0.38517531+0.j        , 0.07843788-0.21953638j],\n",
       "       [0.07843788+0.21953638j, 0.61482469+0.j        ]])"
      ]
     },
     "execution_count": 150,
     "metadata": {},
     "output_type": "execute_result"
    }
   ],
   "source": [
    "d = 2 \n",
    "rho = np.random.randn(d,d) + 1j*np.random.randn(d,d)\n",
    "rho = rho @ rho.T.conj()\n",
    "rho = rho / np.trace( rho )\n",
    "rho "
   ]
  },
  {
   "cell_type": "code",
   "execution_count": 151,
   "metadata": {},
   "outputs": [],
   "source": [
    "paulis = np.array( \n",
    "        [ np.eye(2),\n",
    "        np.array([0,1,1,0]).reshape(2,2),\n",
    "        np.array([0,-1j,1j,0]).reshape(2,2),\n",
    "        np.diag([1,-1])\n",
    "        ])"
   ]
  },
  {
   "cell_type": "code",
   "execution_count": 152,
   "metadata": {},
   "outputs": [],
   "source": [
    "def rho_param( y, z ):\n",
    "    y = y / np.sum(y) \n",
    "    z = np.sqrt(y) * z / np.linalg.norm(z,axis=0)\n",
    "    return z @ z.T.conj()"
   ]
  },
  {
   "cell_type": "code",
   "execution_count": 153,
   "metadata": {},
   "outputs": [],
   "source": [
    "def y_z_drawing(alpha=1/4):\n",
    "    y = np.random.gamma( alpha, 1, size=2 )\n",
    "    z = np.random.randn(d,d) + 1j*np.random.randn(d,d)\n",
    "    return [ y, z ]"
   ]
  },
  {
   "cell_type": "code",
   "execution_count": 154,
   "metadata": {},
   "outputs": [],
   "source": [
    "def log_pseudo_likelihood( y, z, rho_ls, alpha =1/4 ):\n",
    "        L = ( - 0.5 * 4 * np.linalg.norm(  rho_param(y,z) - rho_ls  )**2\n",
    "                        + np.sum( alpha*np.log(y) - y ) \n",
    "                        )\n",
    "        return L "
   ]
  },
  {
   "cell_type": "code",
   "execution_count": 155,
   "metadata": {},
   "outputs": [],
   "source": [
    "y, z = y_z_drawing()\n",
    "rho = rho_param( y, z )\n",
    "y = np.ones(2)/2\n",
    "z = np.eye(2)\n",
    "\n",
    "# y, z = y_z_drawing()"
   ]
  },
  {
   "cell_type": "code",
   "execution_count": 156,
   "metadata": {},
   "outputs": [],
   "source": [
    "measures = np.array( [ np.trace(rho@pauli) for pauli in paulis ] )\n",
    "rho_ls = ( paulis.reshape(4,-1).T @ measures ).reshape(2,2)/2"
   ]
  },
  {
   "cell_type": "code",
   "execution_count": 157,
   "metadata": {},
   "outputs": [
    {
     "data": {
      "text/plain": [
       "array([[0.1351099+0.j        , 0.0341672+0.31800157j],\n",
       "       [0.0341672-0.31800157j, 0.8648901+0.j        ]])"
      ]
     },
     "execution_count": 157,
     "metadata": {},
     "output_type": "execute_result"
    }
   ],
   "source": [
    "rho"
   ]
  },
  {
   "cell_type": "code",
   "execution_count": 158,
   "metadata": {},
   "outputs": [
    {
     "data": {
      "text/plain": [
       "array([[0.5, 0. ],\n",
       "       [0. , 0.5]])"
      ]
     },
     "execution_count": 158,
     "metadata": {},
     "output_type": "execute_result"
    }
   ],
   "source": [
    "rho_param( y, z )"
   ]
  },
  {
   "cell_type": "code",
   "execution_count": 159,
   "metadata": {},
   "outputs": [],
   "source": [
    "rhos = []\n",
    "for k in range(1000):\n",
    "    beta_y = 0.1\n",
    "    beta_z = 0.1\n",
    "    alpha = 1/4 \n",
    "    # y, z = y_z_drawing()\n",
    "    logX = log_pseudo_likelihood( y, z, rho_ls )\n",
    "\n",
    "    for j in range(100):\n",
    "        eta_k = np.random.randn(d)\n",
    "        xi_k  = np.random.randn(d,d) + 1j*np.random.randn(d,d)\n",
    "\n",
    "        y_hat = y*np.exp(beta_y*eta_k)\n",
    "        z_hat = np.sqrt( 1 - beta_z**2 )*z + beta_z*xi_k\n",
    "        logY  = log_pseudo_likelihood( y_hat, z_hat, rho_ls ) \n",
    "\n",
    "        log_prob = min( 0, logY - logX ) \n",
    "        # print( np.exp(logY), np.exp(log_prob) )\n",
    "        if np.log(np.random.rand()) < log_prob:\n",
    "            y = y_hat\n",
    "            z = z_hat\n",
    "            logX = logY \n",
    "\n",
    "    rhos.append( rho_param( y, z ) )"
   ]
  },
  {
   "cell_type": "code",
   "execution_count": 160,
   "metadata": {},
   "outputs": [
    {
     "data": {
      "text/plain": [
       "array([[0.32177171+0.j        , 0.01171094+0.14521125j],\n",
       "       [0.01171094-0.14521125j, 0.67822829+0.j        ]])"
      ]
     },
     "execution_count": 160,
     "metadata": {},
     "output_type": "execute_result"
    }
   ],
   "source": [
    "np.mean( rhos, axis=0 )"
   ]
  },
  {
   "cell_type": "code",
   "execution_count": 161,
   "metadata": {},
   "outputs": [
    {
     "data": {
      "text/plain": [
       "array([[0.1351099+0.j        , 0.0341672+0.31800157j],\n",
       "       [0.0341672-0.31800157j, 0.8648901+0.j        ]])"
      ]
     },
     "execution_count": 161,
     "metadata": {},
     "output_type": "execute_result"
    }
   ],
   "source": [
    "rho "
   ]
  },
  {
   "cell_type": "code",
   "execution_count": null,
   "metadata": {},
   "outputs": [],
   "source": []
  },
  {
   "cell_type": "code",
   "execution_count": null,
   "metadata": {},
   "outputs": [],
   "source": []
  },
  {
   "cell_type": "code",
   "execution_count": null,
   "metadata": {},
   "outputs": [],
   "source": []
  }
 ],
 "metadata": {
  "kernelspec": {
   "display_name": "qiskit_1",
   "language": "python",
   "name": "python3"
  },
  "language_info": {
   "codemirror_mode": {
    "name": "ipython",
    "version": 3
   },
   "file_extension": ".py",
   "mimetype": "text/x-python",
   "name": "python",
   "nbconvert_exporter": "python",
   "pygments_lexer": "ipython3",
   "version": "3.12.3"
  }
 },
 "nbformat": 4,
 "nbformat_minor": 2
}
