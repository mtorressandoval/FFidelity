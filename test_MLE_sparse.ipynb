{
 "cells": [
  {
   "cell_type": "code",
   "execution_count": 226,
   "metadata": {},
   "outputs": [],
   "source": [
    "import numpy as np \n",
    "import matplotlib.pyplot as plt \n",
    "from tomography import Random_Measurements, NearSparseTomography_v2\n",
    "from qiskit_aer.primitives import Estimator\n",
    "from qiskit_aer import AerSimulator \n",
    "from qiskit.quantum_info import Statevector, random_clifford, state_fidelity\n",
    "from qiskit_aer.noise import NoiseModel, depolarizing_error "
   ]
  },
  {
   "cell_type": "code",
   "execution_count": 227,
   "metadata": {},
   "outputs": [],
   "source": [
    "error_1 = depolarizing_error( 0.01, 1 )\n",
    "error_2 = depolarizing_error( 0.02, 2 )\n",
    "noise_model = NoiseModel()\n",
    "noise_model.add_all_qubit_quantum_error(error_1, ['h', 's', 'sd', 'x'])\n",
    "noise_model.add_all_qubit_quantum_error(error_2, ['cx'])"
   ]
  },
  {
   "cell_type": "code",
   "execution_count": 228,
   "metadata": {},
   "outputs": [],
   "source": [
    "NQ = 3\n",
    "\n",
    "backend = Estimator(backend_options={'shots':1e3, \n",
    "                                        'method':\"stabilizer\",\n",
    "                                        'noise_model':noise_model},\n",
    "                                transpile_options={'optimization_level':0},\n",
    "                                ) "
   ]
  },
  {
   "cell_type": "code",
   "execution_count": 230,
   "metadata": {},
   "outputs": [
    {
     "data": {
      "text/plain": [
       "array([[ 0.12+0.j,  0.12+0.j,  0.12+0.j,  0.12+0.j,  0.12+0.j,  0.12+0.j,\n",
       "        -0.12-0.j, -0.12-0.j],\n",
       "       [ 0.12+0.j,  0.12+0.j,  0.12+0.j,  0.12+0.j,  0.12+0.j,  0.12+0.j,\n",
       "        -0.12-0.j, -0.12-0.j],\n",
       "       [ 0.12+0.j,  0.12+0.j,  0.12+0.j,  0.12+0.j,  0.12+0.j,  0.12+0.j,\n",
       "        -0.12-0.j, -0.12-0.j],\n",
       "       [ 0.12+0.j,  0.12+0.j,  0.12+0.j,  0.12+0.j,  0.12+0.j,  0.12+0.j,\n",
       "        -0.12-0.j, -0.12-0.j],\n",
       "       [ 0.12+0.j,  0.12+0.j,  0.12+0.j,  0.12+0.j,  0.12+0.j,  0.12+0.j,\n",
       "        -0.12-0.j, -0.12-0.j],\n",
       "       [ 0.12+0.j,  0.12+0.j,  0.12+0.j,  0.12+0.j,  0.12+0.j,  0.12+0.j,\n",
       "        -0.12-0.j, -0.12-0.j],\n",
       "       [-0.12-0.j, -0.12-0.j, -0.12-0.j, -0.12-0.j, -0.12-0.j, -0.12-0.j,\n",
       "         0.12+0.j,  0.12+0.j],\n",
       "       [-0.12-0.j, -0.12-0.j, -0.12-0.j, -0.12-0.j, -0.12-0.j, -0.12-0.j,\n",
       "         0.12+0.j,  0.12+0.j]])"
      ]
     },
     "execution_count": 230,
     "metadata": {},
     "output_type": "execute_result"
    }
   ],
   "source": [
    "Omega = random_clifford( NQ ).to_circuit()\n",
    "OmegaS = np.array( Statevector(Omega) )\n",
    "OmegaM = np.outer( OmegaS, OmegaS.conj() )\n",
    "OmegaM.round(2) "
   ]
  },
  {
   "cell_type": "code",
   "execution_count": 231,
   "metadata": {},
   "outputs": [
    {
     "data": {
      "text/plain": [
       "array([[ 0.12+0.j,  0.1 -0.j,  0.1 +0.j,  0.1 +0.j,  0.1 +0.j,  0.11+0.j,\n",
       "        -0.1 -0.j, -0.1 +0.j],\n",
       "       [ 0.1 +0.j,  0.12-0.j,  0.1 +0.j,  0.1 -0.j,  0.11-0.j,  0.1 +0.j,\n",
       "        -0.1 -0.j, -0.1 +0.j],\n",
       "       [ 0.1 -0.j,  0.1 -0.j,  0.12-0.j,  0.1 -0.j,  0.1 +0.j,  0.1 +0.j,\n",
       "        -0.1 +0.j, -0.11+0.j],\n",
       "       [ 0.1 -0.j,  0.1 +0.j,  0.1 -0.j,  0.12+0.j,  0.1 -0.j,  0.1 +0.j,\n",
       "        -0.11-0.j, -0.1 +0.j],\n",
       "       [ 0.1 -0.j,  0.11+0.j,  0.1 +0.j,  0.1 +0.j,  0.12-0.j,  0.1 +0.j,\n",
       "        -0.1 +0.j, -0.1 +0.j],\n",
       "       [ 0.11-0.j,  0.1 -0.j,  0.1 -0.j,  0.1 +0.j,  0.1 -0.j,  0.12+0.j,\n",
       "        -0.1 +0.j, -0.1 -0.j],\n",
       "       [-0.1 +0.j, -0.1 +0.j, -0.1 -0.j, -0.11+0.j, -0.1 -0.j, -0.1 -0.j,\n",
       "         0.12+0.j,  0.1 -0.j],\n",
       "       [-0.1 -0.j, -0.1 +0.j, -0.11-0.j, -0.1 -0.j, -0.1 -0.j, -0.1 +0.j,\n",
       "         0.1 +0.j,  0.12-0.j]])"
      ]
     },
     "execution_count": 231,
     "metadata": {},
     "output_type": "execute_result"
    }
   ],
   "source": [
    "qasm = AerSimulator(method='density_matrix',\n",
    "                        noise_model=noise_model)\n",
    "\n",
    "Omega_density = Omega.copy()\n",
    "Omega_density.save_density_matrix()\n",
    "OmegaM_noisy = np.array( qasm.run(Omega_density).result().data()['density_matrix'] )\n",
    "OmegaM_noisy.round(2) "
   ]
  },
  {
   "cell_type": "code",
   "execution_count": 232,
   "metadata": {},
   "outputs": [],
   "source": [
    "RM = Random_Measurements(NQ)\n",
    "RM.RandomMeasurements( 4**(NQ-1), Omega, backend ) "
   ]
  },
  {
   "cell_type": "code",
   "execution_count": 233,
   "metadata": {},
   "outputs": [
    {
     "name": "stdout",
     "output_type": "stream",
     "text": [
      "0.07855388206612793\n"
     ]
    },
    {
     "data": {
      "text/plain": [
       "0.40826372511313513"
      ]
     },
     "execution_count": 233,
     "metadata": {},
     "output_type": "execute_result"
    }
   ],
   "source": [
    "phi_in = OmegaS \n",
    "phi_out = NearSparseTomography_v2( phi_in, RM ) \n",
    "rho_out = phi_out@phi_out.T.conj()  \n",
    "rho_out = rho_out / np.trace( rho_out ) \n",
    "np.vdot( OmegaS, rho_out@OmegaS ).real"
   ]
  },
  {
   "cell_type": "code",
   "execution_count": 234,
   "metadata": {},
   "outputs": [
    {
     "name": "stdout",
     "output_type": "stream",
     "text": [
      "0.0034329681910460316\n"
     ]
    },
    {
     "data": {
      "text/plain": [
       "0.22443035066072625"
      ]
     },
     "execution_count": 234,
     "metadata": {},
     "output_type": "execute_result"
    }
   ],
   "source": [
    "phi_in = 0.001*( np.random.randn(2**NQ,4) \n",
    "                + 1j*np.random.randn(2**NQ,4) )\n",
    "phi_in[:,0] = OmegaS \n",
    "phi_out = NearSparseTomography_v2( phi_in, RM ) \n",
    "rho_out = phi_out @ phi_out.T.conj()  \n",
    "rho_out = rho_out / np.trace( rho_out ) \n",
    "np.vdot( OmegaS, rho_out@OmegaS ).real "
   ]
  },
  {
   "cell_type": "code",
   "execution_count": 235,
   "metadata": {},
   "outputs": [
    {
     "data": {
      "text/plain": [
       "array([[-0.25+0.25j, -0.  +0.j  , -0.  +0.j  , -0.  +0.j  ],\n",
       "       [-0.25+0.25j, -0.  -0.j  , -0.  -0.j  , -0.  +0.j  ],\n",
       "       [-0.25+0.25j, -0.  -0.j  ,  0.  -0.j  , -0.  +0.j  ],\n",
       "       [-0.25+0.25j,  0.  +0.j  ,  0.  +0.j  , -0.  +0.j  ],\n",
       "       [-0.25+0.25j, -0.  +0.j  ,  0.  +0.j  ,  0.  +0.j  ],\n",
       "       [-0.25+0.25j,  0.  +0.j  ,  0.  -0.j  ,  0.  -0.j  ],\n",
       "       [ 0.25-0.25j, -0.  -0.j  , -0.  -0.j  ,  0.  +0.j  ],\n",
       "       [ 0.25-0.25j, -0.  +0.j  ,  0.  -0.j  , -0.  -0.j  ]])"
      ]
     },
     "execution_count": 235,
     "metadata": {},
     "output_type": "execute_result"
    }
   ],
   "source": [
    "phi_in.round(2) "
   ]
  },
  {
   "cell_type": "code",
   "execution_count": 236,
   "metadata": {},
   "outputs": [
    {
     "data": {
      "text/plain": [
       "array([[-0.39+0.54j, -0.49-0.16j, -0.41-0.24j, -0.51+0.24j],\n",
       "       [-0.25+0.37j, -0.44-0.6j , -0.12-0.13j, -0.38+0.13j],\n",
       "       [-0.29+0.26j,  0.37+0.35j,  0.46-0.02j, -0.2 +0.52j],\n",
       "       [-0.57+0.21j,  0.52+0.31j,  0.33-0.01j, -0.14+0.48j],\n",
       "       [-0.59+0.14j, -0.41+0.34j,  0.26-0.15j,  0.37-0.39j],\n",
       "       [-0.14+0.38j, -0.37+0.35j,  0.36-0.36j,  0.54-0.47j],\n",
       "       [ 0.19-0.32j, -0.18+0.11j,  0.31-0.68j, -0.15+0.38j],\n",
       "       [ 0.32-0.43j, -0.26+0.13j,  0.23-0.76j, -0.21+0.24j]])"
      ]
     },
     "execution_count": 236,
     "metadata": {},
     "output_type": "execute_result"
    }
   ],
   "source": [
    "phi_out.round(2)"
   ]
  },
  {
   "cell_type": "code",
   "execution_count": 237,
   "metadata": {},
   "outputs": [
    {
     "data": {
      "text/plain": [
       "0.22443035401129585"
      ]
     },
     "execution_count": 237,
     "metadata": {},
     "output_type": "execute_result"
    }
   ],
   "source": [
    "state_fidelity( rho_out, OmegaM )"
   ]
  },
  {
   "cell_type": "code",
   "execution_count": 238,
   "metadata": {},
   "outputs": [
    {
     "data": {
      "text/plain": [
       "0.4457243144743832"
      ]
     },
     "execution_count": 238,
     "metadata": {},
     "output_type": "execute_result"
    }
   ],
   "source": [
    "state_fidelity( rho_out, OmegaM_noisy )"
   ]
  },
  {
   "cell_type": "code",
   "execution_count": null,
   "metadata": {},
   "outputs": [],
   "source": []
  },
  {
   "cell_type": "code",
   "execution_count": null,
   "metadata": {},
   "outputs": [],
   "source": []
  },
  {
   "cell_type": "code",
   "execution_count": null,
   "metadata": {},
   "outputs": [],
   "source": []
  }
 ],
 "metadata": {
  "kernelspec": {
   "display_name": "qiskit_1",
   "language": "python",
   "name": "python3"
  },
  "language_info": {
   "codemirror_mode": {
    "name": "ipython",
    "version": 3
   },
   "file_extension": ".py",
   "mimetype": "text/x-python",
   "name": "python",
   "nbconvert_exporter": "python",
   "pygments_lexer": "ipython3",
   "version": "3.12.3"
  }
 },
 "nbformat": 4,
 "nbformat_minor": 2
}
